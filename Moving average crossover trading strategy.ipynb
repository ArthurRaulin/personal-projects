{
 "cells": [
  {
   "cell_type": "code",
   "execution_count": null,
   "id": "44d8b2a9-64f0-4d13-b461-369f7967c395",
   "metadata": {},
   "outputs": [],
   "source": []
  }
 ],
 "metadata": {
  "kernelspec": {
   "display_name": "",
   "name": ""
  },
  "language_info": {
   "name": ""
  }
 },
 "nbformat": 4,
 "nbformat_minor": 5
}
