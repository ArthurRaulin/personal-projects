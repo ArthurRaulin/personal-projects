{
 "cells": [
  {
   "cell_type": "code",
   "execution_count": 1,
   "id": "fb871418-f80e-4239-a5e3-68b6b5ae7277",
   "metadata": {},
   "outputs": [],
   "source": [
    "import yfinance as yf\n",
    "import pandas as pd\n",
    "import matplotlib.pyplot as plt \n",
    "import numpy as np"
   ]
  },
  {
   "cell_type": "code",
   "execution_count": 2,
   "id": "88627ecb-3741-4cc4-ad03-878c7e7005ae",
   "metadata": {},
   "outputs": [
    {
     "name": "stderr",
     "output_type": "stream",
     "text": [
      "C:\\Users\\arthu\\AppData\\Local\\Temp\\ipykernel_21192\\3032578394.py:2: FutureWarning: YF.download() has changed argument auto_adjust default to True\n",
      "  df = yf.download(tickers, start='2023-01-01', end='2024-12-31')\n",
      "[*********************100%***********************]  5 of 5 completed\n"
     ]
    }
   ],
   "source": [
    "tickers = ['AAPL', 'MSFT', 'XOM', 'TSLA', 'GC=F']\n",
    "df = yf.download(tickers, start='2023-01-01', end='2024-12-31')\n",
    "df = df['Close'].dropna()\n",
    "df = df.rename(columns={'AAPL':'Apple', 'GC=F':'Gold', 'MSFT':'Microsoft', 'TSLA':'Tesla', 'XOM':'Exxon Mobil'})"
   ]
  },
  {
   "cell_type": "code",
   "execution_count": 3,
   "id": "1820dc43-7111-455e-a3d2-67824c947cbf",
   "metadata": {},
   "outputs": [],
   "source": [
    "df_returns = pd.DataFrame()\n",
    "df_returns['Apple'] = np.log(df['Apple']/df['Apple'].shift(1))\n",
    "df_returns['Micrsoft'] = np.log(df['Microsoft']/df['Microsoft'].shift(1))\n",
    "df_returns['Gold'] = np.log(df['Gold']/df['Gold'].shift(1))\n",
    "df_returns['Tesla'] = np.log(df['Tesla']/df['Tesla'].shift(1))\n",
    "df_returns['Exxon Mobil'] = np.log(df['Exxon Mobil']/df['Exxon Mobil'].shift(1))\n",
    "df_returns = df_returns.dropna()"
   ]
  },
  {
   "cell_type": "code",
   "execution_count": 4,
   "id": "8f2e93a1-1cc1-4cd9-91ca-5d4bd48d45e8",
   "metadata": {},
   "outputs": [],
   "source": [
    "allocations = np.array([[0.2, 0.2, 0.2, 0.2, 0.2], [0.35, 0.35, 0.1, 0.1, 0.1], [0.1, 0.1, 0.1, 0.1, 0.6]])\n",
    "portfolios = pd.DataFrame(allocations, columns=['Apple', 'Microsoft', 'Gold', 'Tesla', 'Exxon Mobil'])"
   ]
  },
  {
   "cell_type": "code",
   "execution_count": 5,
   "id": "87ecf09a-f7c7-4ca7-b7b2-8e722ac87770",
   "metadata": {},
   "outputs": [],
   "source": [
    "mean_ann_returns = df_returns.mean()*252*100\n",
    "cov_matrix = df_returns.cov()*252"
   ]
  },
  {
   "cell_type": "code",
   "execution_count": 6,
   "id": "0699df59-d2d1-45ab-9620-6152afbe4f13",
   "metadata": {},
   "outputs": [],
   "source": [
    "port_ann_return = np.dot(allocations, mean_ann_returns)\n",
    "port_volatility = []\n",
    "for w in allocations:\n",
    "    vol = np.sqrt(np.dot(w.T,np.dot(cov_matrix,w)))\n",
    "    port_volatility.append(vol)\n",
    "port_volatility = np.array(port_volatility)*100"
   ]
  },
  {
   "cell_type": "code",
   "execution_count": 7,
   "id": "0ba0cefb-2907-4e00-bccb-d144f45d7461",
   "metadata": {},
   "outputs": [],
   "source": [
    "#Risk free rate\n",
    "rf = 0 \n",
    "Sharpe_ratios = (port_ann_return - rf)/port_volatility"
   ]
  },
  {
   "cell_type": "code",
   "execution_count": 8,
   "id": "c00502ce-834d-436c-b5c0-467cc8f44f83",
   "metadata": {},
   "outputs": [
    {
     "name": "stdout",
     "output_type": "stream",
     "text": [
      "[30.84683983 31.81462709 16.93663593]\n",
      "[16.98353499 16.72592175 15.55798901]\n",
      "[1.81627911 1.90211503 1.08861344]\n"
     ]
    }
   ],
   "source": [
    "print(port_ann_return)\n",
    "print(port_volatility)\n",
    "print(Sharpe_ratios)"
   ]
  },
  {
   "cell_type": "code",
   "execution_count": null,
   "id": "0ead37f0-821c-43c2-824f-08a91e3e1395",
   "metadata": {},
   "outputs": [],
   "source": []
  }
 ],
 "metadata": {
  "kernelspec": {
   "display_name": "Python 3 (ipykernel)",
   "language": "python",
   "name": "python3"
  },
  "language_info": {
   "codemirror_mode": {
    "name": "ipython",
    "version": 3
   },
   "file_extension": ".py",
   "mimetype": "text/x-python",
   "name": "python",
   "nbconvert_exporter": "python",
   "pygments_lexer": "ipython3",
   "version": "3.13.5"
  }
 },
 "nbformat": 4,
 "nbformat_minor": 5
}
